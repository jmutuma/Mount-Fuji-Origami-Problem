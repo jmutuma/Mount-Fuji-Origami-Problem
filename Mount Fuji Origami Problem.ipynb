{
 "cells": [
  {
   "cell_type": "markdown",
   "id": "314c337e",
   "metadata": {},
   "source": [
    "Folding paper Formula is t(n) = t(0) * 2^(n): Since we know the variables t(n) - thickness, and t(0) - 0.00008m ; we need to find the power (n).\n",
    "I will use logarithm which is a math function in python to find (n).\n",
    " 1. log(t(n)) = log(t(0)) + log(2^(n))\n",
    " 2. log(t(n)) = log(t(0)) + n*log(2)\n",
    " 3. n*log(2) = log(t(n)) - log(t(0))\n",
    " 4. n = (log(t(n)) - log(t(0))) / log(2)- formula to find n- (no of folds)"
   ]
  },
  {
   "cell_type": "markdown",
   "id": "e098e13b",
   "metadata": {},
   "source": [
    "# Problem 1:\n",
    "t(n) = 3776 m\n",
    "t(0) = 0.00008 m"
   ]
  },
  {
   "cell_type": "code",
   "execution_count": 38,
   "id": "ff8c9888",
   "metadata": {},
   "outputs": [
    {
     "name": "stdout",
     "output_type": "stream",
     "text": [
      "26\n"
     ]
    }
   ],
   "source": [
    "import math # library to use logarithm\n",
    "n = (math.log(3776) - math.log(0.00008)) / math.log(2) # log to calculate (n)according to the formula\n",
    "no_of_folds = math.ceil(n) # function to round up n(if it contains decimals) to the next whole number\n",
    "print(no_of_folds) "
   ]
  },
  {
   "cell_type": "markdown",
   "id": "6ee9bb6c",
   "metadata": {},
   "source": [
    "To exceed mount fuji the paper will be folded 26 times."
   ]
  },
  {
   "cell_type": "markdown",
   "id": "2569d899",
   "metadata": {},
   "source": [
    "# Problem 2:\n",
    "Function that accepts 2 arguments - the height input(t(n)) and paper thicknes before fold(t(0)) and outputs the minimum number of paper folds required to exceed it."
   ]
  },
  {
   "cell_type": "code",
   "execution_count": 46,
   "id": "15313230",
   "metadata": {},
   "outputs": [
    {
     "name": "stdout",
     "output_type": "stream",
     "text": [
      "The minimum number of folds required to exceed height is: 69\n"
     ]
    }
   ],
   "source": [
    "def n_folds_to_reach_height(height, thickness):\n",
    "    n = (math.log(height) - math.log(thickness)) / math.log(2) # calculate no of folds given height and thickness\n",
    "    no_of_folds = math.ceil(n) # function to round up n(if it contains decimals) to the next whole number\n",
    "    print(\"The minimum number of folds required to exceed height is:\",no_of_folds)\n",
    "    \n",
    "#height to nearest star is 4.0175*10^16m, thickness t(0) = 0.00008m\n",
    "\n",
    "\n",
    "n_folds_to_reach_height((4.0175*(pow(10, 16))), 0.00008)"
   ]
  },
  {
   "cell_type": "markdown",
   "id": "04912396",
   "metadata": {},
   "source": [
    "It will take 69 folds to reach proxima centauri."
   ]
  },
  {
   "cell_type": "markdown",
   "id": "5dba9e78",
   "metadata": {},
   "source": [
    "# Problem 3:\n",
    "Function that calculates the length of the paper required to fold the paper and reach any thickness.\n",
    "The function takes height(meters) and thickness of paper before fold(meters), and outputs the length of paper required in meters."
   ]
  },
  {
   "cell_type": "code",
   "execution_count": 22,
   "id": "d4935726",
   "metadata": {},
   "outputs": [
    {
     "name": "stdout",
     "output_type": "stream",
     "text": [
      "The length is:\n",
      "3.240919444170781e+21 :meters\n"
     ]
    }
   ],
   "source": [
    "#1. Calculate the length of paper required to fold the paper to the thickness equal to moon's distance\n",
    "import math\n",
    "def paper_length_required(height, thickness):# function to get length takes height and thickness as arguments\n",
    "    print(\"The length is:\")\n",
    "    def n_folds_to_reach_height():# inner function that calculates number of folds\n",
    "        n = (math.log(height) - math.log(thickness)) / math.log(2)\n",
    "        no_of_folds = math.ceil(n)\n",
    "        length = ((math.pi*thickness)/6)*((pow(2,no_of_folds)) + 4 )*((pow(2, no_of_folds)) - 1)# formula to calculate length of paper required\n",
    "        print(length,\":meters\")\n",
    "    return n_folds_to_reach_height()# returns the output of inner function to the outer function\n",
    "# distance to moon = 384400000 meters\n",
    "# paper thickness = 0.00008 meters\n",
    "paper_length_required(384400000, 0.00008 )"
   ]
  },
  {
   "cell_type": "markdown",
   "id": "73d5970f",
   "metadata": {},
   "source": [
    "The length of paper required to fold thickness equal to moons distance (3.24 * 10 ^21) meters"
   ]
  },
  {
   "cell_type": "code",
   "execution_count": 21,
   "id": "d41ff305",
   "metadata": {},
   "outputs": [
    {
     "name": "stdout",
     "output_type": "stream",
     "text": [
      "The length is:\n",
      "188646348487.24017 :meters\n"
     ]
    }
   ],
   "source": [
    "#2. Calculate the length of paper required to fold the paper to the thickness equal to height of mount fuji\n",
    "import math\n",
    "def paper_length_required(height, thickness):# function to get length takes height and thickness as arguments\n",
    "    print(\"The length is:\")\n",
    "    def n_folds_to_reach_height():# inner function that calculates number of folds\n",
    "        n = (math.log(height) - math.log(thickness)) / math.log(2)\n",
    "        no_of_folds = math.ceil(n)\n",
    "        length = ((math.pi*thickness)/6)*((pow(2,no_of_folds)) + 4 )*((pow(2, no_of_folds)) - 1)# formula to calculate length of paper required\n",
    "        print(length,\":meters\")\n",
    "    return n_folds_to_reach_height()# returns the output of inner function to the outer function\n",
    "# distance to mt fuji = 3776 meters\n",
    "# paper thickness = 0.00008 meters\n",
    "paper_length_required(3776, 0.00008 )"
   ]
  },
  {
   "cell_type": "markdown",
   "id": "e40f0fc2",
   "metadata": {},
   "source": [
    "The length of paper required to fold thickness equal to height of mount fuji 188646348487.24017 meters"
   ]
  },
  {
   "cell_type": "code",
   "execution_count": 23,
   "id": "f4107316",
   "metadata": {},
   "outputs": [
    {
     "name": "stdout",
     "output_type": "stream",
     "text": [
      "The length is:\n",
      "1.4595803601100348e+37 :meters\n"
     ]
    }
   ],
   "source": [
    "#3. Calculate the length of paper required to fold the paper to the thickness equal to distance to proxima centauri\n",
    "import math\n",
    "def paper_length_required(height, thickness):# function to get length takes height and thickness as arguments\n",
    "    print(\"The length is:\")\n",
    "    def n_folds_to_reach_height():# inner function that calculates number of folds\n",
    "        n = (math.log(height) - math.log(thickness)) / math.log(2)\n",
    "        no_of_folds = math.ceil(n)\n",
    "        length = ((math.pi*thickness)/6)*((pow(2,no_of_folds)) + 4 )*((pow(2, no_of_folds)) - 1)# formula to calculate length of paper required\n",
    "        print(length,\":meters\")\n",
    "    return n_folds_to_reach_height()# returns the output of inner function to the outer function\n",
    "# distance to proxima centauri = 4.0175*10^16 meters\n",
    "# paper thickness = 0.00008 meters\n",
    "paper_length_required((4.0175*(pow(10,16))), 0.00008 )"
   ]
  },
  {
   "cell_type": "markdown",
   "id": "469fd994",
   "metadata": {},
   "source": [
    "The length of paper required to fold thickness equal to distance of nearest star proxima centauri is (1.46 * 10^37) meters"
   ]
  },
  {
   "cell_type": "code",
   "execution_count": null,
   "id": "f2136195",
   "metadata": {},
   "outputs": [],
   "source": []
  }
 ],
 "metadata": {
  "kernelspec": {
   "display_name": "Python 3 (ipykernel)",
   "language": "python",
   "name": "python3"
  },
  "language_info": {
   "codemirror_mode": {
    "name": "ipython",
    "version": 3
   },
   "file_extension": ".py",
   "mimetype": "text/x-python",
   "name": "python",
   "nbconvert_exporter": "python",
   "pygments_lexer": "ipython3",
   "version": "3.8.10"
  }
 },
 "nbformat": 4,
 "nbformat_minor": 5
}
